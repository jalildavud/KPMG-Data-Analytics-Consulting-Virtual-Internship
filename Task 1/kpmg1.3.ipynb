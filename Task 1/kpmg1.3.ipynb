{
 "cells": [
  {
   "cell_type": "code",
   "execution_count": null,
   "id": "50187eef-feff-4b0e-9c40-e9764b8352b5",
   "metadata": {},
   "outputs": [],
   "source": []
  },
  {
   "cell_type": "code",
   "execution_count": 1,
   "id": "5f9681e9-eb12-4416-81ab-4e2e6c6881f3",
   "metadata": {},
   "outputs": [],
   "source": [
    "import pandas as pd\n",
    "import numpy as np"
   ]
  },
  {
   "cell_type": "code",
   "execution_count": 2,
   "id": "1f0903f7-6cea-4e38-a040-ceac97aa9164",
   "metadata": {},
   "outputs": [
    {
     "name": "stderr",
     "output_type": "stream",
     "text": [
      "C:\\Users\\Pavilion\\AppData\\Local\\Temp/ipykernel_21688/3918280635.py:1: FutureWarning: Inferring datetime64[ns] from data containing strings is deprecated and will be removed in a future version. To retain the old behavior explicitly pass Series(data, dtype={value.dtype})\n",
      "  df=pd.read_excel('KPMG.xlsx', sheet_name='CustomerDemographic')\n"
     ]
    },
    {
     "data": {
      "text/html": [
       "<div>\n",
       "<style scoped>\n",
       "    .dataframe tbody tr th:only-of-type {\n",
       "        vertical-align: middle;\n",
       "    }\n",
       "\n",
       "    .dataframe tbody tr th {\n",
       "        vertical-align: top;\n",
       "    }\n",
       "\n",
       "    .dataframe thead th {\n",
       "        text-align: right;\n",
       "    }\n",
       "</style>\n",
       "<table border=\"1\" class=\"dataframe\">\n",
       "  <thead>\n",
       "    <tr style=\"text-align: right;\">\n",
       "      <th></th>\n",
       "      <th>customer_id</th>\n",
       "      <th>first_name</th>\n",
       "      <th>last_name</th>\n",
       "      <th>gender</th>\n",
       "      <th>past_3_years_bike_related_purchases</th>\n",
       "      <th>DOB</th>\n",
       "      <th>job_title</th>\n",
       "      <th>job_industry_category</th>\n",
       "      <th>wealth_segment</th>\n",
       "      <th>deceased_indicator</th>\n",
       "      <th>owns_car</th>\n",
       "      <th>tenure</th>\n",
       "    </tr>\n",
       "  </thead>\n",
       "  <tbody>\n",
       "    <tr>\n",
       "      <th>0</th>\n",
       "      <td>1</td>\n",
       "      <td>Laraine</td>\n",
       "      <td>Medendorp</td>\n",
       "      <td>F</td>\n",
       "      <td>93</td>\n",
       "      <td>1953-10-12</td>\n",
       "      <td>Executive Secretary</td>\n",
       "      <td>Health</td>\n",
       "      <td>Mass Customer</td>\n",
       "      <td>N</td>\n",
       "      <td>Yes</td>\n",
       "      <td>11.0</td>\n",
       "    </tr>\n",
       "    <tr>\n",
       "      <th>1</th>\n",
       "      <td>2</td>\n",
       "      <td>Eli</td>\n",
       "      <td>Bockman</td>\n",
       "      <td>Male</td>\n",
       "      <td>81</td>\n",
       "      <td>1980-12-16</td>\n",
       "      <td>Administrative Officer</td>\n",
       "      <td>Financial Services</td>\n",
       "      <td>Mass Customer</td>\n",
       "      <td>N</td>\n",
       "      <td>Yes</td>\n",
       "      <td>16.0</td>\n",
       "    </tr>\n",
       "    <tr>\n",
       "      <th>2</th>\n",
       "      <td>3</td>\n",
       "      <td>Arlin</td>\n",
       "      <td>Dearle</td>\n",
       "      <td>Male</td>\n",
       "      <td>61</td>\n",
       "      <td>1954-01-20</td>\n",
       "      <td>Recruiting Manager</td>\n",
       "      <td>Property</td>\n",
       "      <td>Mass Customer</td>\n",
       "      <td>N</td>\n",
       "      <td>Yes</td>\n",
       "      <td>15.0</td>\n",
       "    </tr>\n",
       "    <tr>\n",
       "      <th>3</th>\n",
       "      <td>4</td>\n",
       "      <td>Talbot</td>\n",
       "      <td>NaN</td>\n",
       "      <td>Male</td>\n",
       "      <td>33</td>\n",
       "      <td>1961-10-03</td>\n",
       "      <td>NaN</td>\n",
       "      <td>IT</td>\n",
       "      <td>Mass Customer</td>\n",
       "      <td>N</td>\n",
       "      <td>No</td>\n",
       "      <td>7.0</td>\n",
       "    </tr>\n",
       "    <tr>\n",
       "      <th>4</th>\n",
       "      <td>5</td>\n",
       "      <td>Sheila-kathryn</td>\n",
       "      <td>Calton</td>\n",
       "      <td>Female</td>\n",
       "      <td>56</td>\n",
       "      <td>1977-05-13</td>\n",
       "      <td>Senior Editor</td>\n",
       "      <td>NaN</td>\n",
       "      <td>Affluent Customer</td>\n",
       "      <td>N</td>\n",
       "      <td>Yes</td>\n",
       "      <td>8.0</td>\n",
       "    </tr>\n",
       "  </tbody>\n",
       "</table>\n",
       "</div>"
      ],
      "text/plain": [
       "   customer_id      first_name  last_name  gender  \\\n",
       "0            1         Laraine  Medendorp       F   \n",
       "1            2             Eli    Bockman    Male   \n",
       "2            3           Arlin     Dearle    Male   \n",
       "3            4          Talbot        NaN    Male   \n",
       "4            5  Sheila-kathryn     Calton  Female   \n",
       "\n",
       "   past_3_years_bike_related_purchases        DOB               job_title  \\\n",
       "0                                   93 1953-10-12     Executive Secretary   \n",
       "1                                   81 1980-12-16  Administrative Officer   \n",
       "2                                   61 1954-01-20      Recruiting Manager   \n",
       "3                                   33 1961-10-03                     NaN   \n",
       "4                                   56 1977-05-13           Senior Editor   \n",
       "\n",
       "  job_industry_category     wealth_segment deceased_indicator owns_car  tenure  \n",
       "0                Health      Mass Customer                  N      Yes    11.0  \n",
       "1    Financial Services      Mass Customer                  N      Yes    16.0  \n",
       "2              Property      Mass Customer                  N      Yes    15.0  \n",
       "3                    IT      Mass Customer                  N       No     7.0  \n",
       "4                   NaN  Affluent Customer                  N      Yes     8.0  "
      ]
     },
     "execution_count": 2,
     "metadata": {},
     "output_type": "execute_result"
    }
   ],
   "source": [
    "df=pd.read_excel('KPMG.xlsx', sheet_name='CustomerDemographic')\n",
    "df.head()"
   ]
  },
  {
   "cell_type": "code",
   "execution_count": 3,
   "id": "dab7714f-a605-4514-bdef-88bf74011452",
   "metadata": {},
   "outputs": [
    {
     "data": {
      "text/plain": [
       "customer_id                              0\n",
       "first_name                               0\n",
       "last_name                              125\n",
       "gender                                   0\n",
       "past_3_years_bike_related_purchases      0\n",
       "DOB                                     87\n",
       "job_title                              506\n",
       "job_industry_category                  656\n",
       "wealth_segment                           0\n",
       "deceased_indicator                       0\n",
       "owns_car                                 0\n",
       "tenure                                  87\n",
       "dtype: int64"
      ]
     },
     "execution_count": 3,
     "metadata": {},
     "output_type": "execute_result"
    }
   ],
   "source": [
    "df.isnull().sum()"
   ]
  },
  {
   "cell_type": "code",
   "execution_count": 4,
   "id": "1be98eb5-2689-44f9-8dbd-ed4da0a5c06d",
   "metadata": {
    "colab": {},
    "colab_type": "code",
    "id": "fllM1M53pGVv"
   },
   "outputs": [],
   "source": [
    "df['last_name']=df['last_name'].fillna(method='ffill')"
   ]
  },
  {
   "cell_type": "code",
   "execution_count": 5,
   "id": "aa1c8c44-1ae0-46e3-a01a-39fb48f5cc87",
   "metadata": {
    "colab": {},
    "colab_type": "code",
    "id": "NVbT9HjdpGgX"
   },
   "outputs": [],
   "source": [
    "df['DOB']=df['DOB'].fillna(method='ffill')"
   ]
  },
  {
   "cell_type": "code",
   "execution_count": 6,
   "id": "a7fdb1ae-feba-413d-849b-3120cb2068d5",
   "metadata": {
    "colab": {
     "base_uri": "https://localhost:8080/",
     "height": 1000
    },
    "colab_type": "code",
    "id": "WMdGiGVUpGl6",
    "outputId": "6e816edf-54ee-4654-ddd8-bbe631a6ca43"
   },
   "outputs": [
    {
     "data": {
      "text/plain": [
       "Business Systems Development Analyst    45\n",
       "Tax Accountant                          44\n",
       "Social Worker                           44\n",
       "Internal Auditor                        42\n",
       "Recruiting Manager                      41\n",
       "                                        ..\n",
       "Database Administrator I                 4\n",
       "Health Coach I                           3\n",
       "Health Coach III                         3\n",
       "Research Assistant III                   3\n",
       "Developer I                              1\n",
       "Name: job_title, Length: 195, dtype: int64"
      ]
     },
     "execution_count": 6,
     "metadata": {},
     "output_type": "execute_result"
    }
   ],
   "source": [
    "df['job_title'].value_counts()"
   ]
  },
  {
   "cell_type": "code",
   "execution_count": 7,
   "id": "ec3ee8ad-199e-4e3f-a4d4-072c562a92d8",
   "metadata": {
    "colab": {},
    "colab_type": "code",
    "id": "C6dlUWOSpGrd"
   },
   "outputs": [],
   "source": [
    "df['job_title']=df['job_title'].fillna(method='bfill')"
   ]
  },
  {
   "cell_type": "code",
   "execution_count": 8,
   "id": "b170cf1a-8c2e-4500-a019-718586ab7ac5",
   "metadata": {
    "colab": {
     "base_uri": "https://localhost:8080/",
     "height": 195
    },
    "colab_type": "code",
    "id": "Ym6KoFqapGw5",
    "outputId": "f195cfd2-f42a-4297-dd33-d7b016e1e371"
   },
   "outputs": [
    {
     "data": {
      "text/plain": [
       "Manufacturing         799\n",
       "Financial Services    774\n",
       "Health                602\n",
       "Retail                358\n",
       "Property              267\n",
       "IT                    223\n",
       "Entertainment         136\n",
       "Argiculture           113\n",
       "Telecommunications     72\n",
       "Name: job_industry_category, dtype: int64"
      ]
     },
     "execution_count": 8,
     "metadata": {},
     "output_type": "execute_result"
    }
   ],
   "source": [
    "df['job_industry_category'].value_counts()"
   ]
  },
  {
   "cell_type": "code",
   "execution_count": 9,
   "id": "5c57b554-c4c8-4076-b6d9-1993e91260be",
   "metadata": {
    "colab": {},
    "colab_type": "code",
    "id": "98GLWxIjpGvt"
   },
   "outputs": [],
   "source": [
    "df['job_industry_category']=df['job_industry_category'].fillna(method='ffill')"
   ]
  },
  {
   "cell_type": "code",
   "execution_count": 10,
   "id": "7d02aed5-0e86-4e8b-bd4f-39a754b8cb7c",
   "metadata": {
    "colab": {
     "base_uri": "https://localhost:8080/",
     "height": 35
    },
    "colab_type": "code",
    "id": "1NrAL9TdpGqc",
    "outputId": "56ec95ad-73de-43b1-9c7c-086810005600"
   },
   "outputs": [
    {
     "data": {
      "text/plain": [
       "10.65704063378482"
      ]
     },
     "execution_count": 10,
     "metadata": {},
     "output_type": "execute_result"
    }
   ],
   "source": [
    "df['tenure'].mean()\n"
   ]
  },
  {
   "cell_type": "code",
   "execution_count": 11,
   "id": "2ad82141-0452-4347-aa8b-2ade56b4267e",
   "metadata": {
    "colab": {},
    "colab_type": "code",
    "id": "yjRyOuylFW7j"
   },
   "outputs": [],
   "source": [
    "df['tenure']=df['tenure'].fillna(df['tenure'].mean())"
   ]
  },
  {
   "cell_type": "code",
   "execution_count": 12,
   "id": "dab33002-2443-423c-88cb-8edcd38c2b5e",
   "metadata": {},
   "outputs": [
    {
     "data": {
      "text/plain": [
       "0       False\n",
       "1       False\n",
       "2       False\n",
       "3       False\n",
       "4       False\n",
       "        ...  \n",
       "3995    False\n",
       "3996    False\n",
       "3997    False\n",
       "3998    False\n",
       "3999    False\n",
       "Length: 4000, dtype: bool"
      ]
     },
     "execution_count": 12,
     "metadata": {},
     "output_type": "execute_result"
    }
   ],
   "source": [
    "df.duplicated()"
   ]
  },
  {
   "cell_type": "code",
   "execution_count": 13,
   "id": "6d1c14d4-8654-4723-9bb3-056807080f6f",
   "metadata": {
    "colab": {
     "base_uri": "https://localhost:8080/",
     "height": 248
    },
    "colab_type": "code",
    "id": "9mzWxFJlpGPa",
    "outputId": "ae340a7b-c182-4ee5-ea4f-ccf4c83ee087"
   },
   "outputs": [
    {
     "name": "stdout",
     "output_type": "stream",
     "text": [
      "   customer_id      first_name  last_name  gender  \\\n",
      "0            1         Laraine  Medendorp       F   \n",
      "1            2             Eli    Bockman    Male   \n",
      "2            3           Arlin     Dearle    Male   \n",
      "3            4          Talbot     Dearle    Male   \n",
      "4            5  Sheila-kathryn     Calton  Female   \n",
      "5            6            Curr  Duckhouse    Male   \n",
      "6            7            Fina     Merali  Female   \n",
      "7            8             Rod      Inder    Male   \n",
      "8            9            Mala       Lind  Female   \n",
      "9           10        Fiorenze    Birdall  Female   \n",
      "\n",
      "   past_3_years_bike_related_purchases        DOB  \\\n",
      "0                                   93 1953-10-12   \n",
      "1                                   81 1980-12-16   \n",
      "2                                   61 1954-01-20   \n",
      "3                                   33 1961-10-03   \n",
      "4                                   56 1977-05-13   \n",
      "5                                   35 1966-09-16   \n",
      "6                                    6 1976-02-23   \n",
      "7                                   31 1962-03-30   \n",
      "8                                   97 1973-03-10   \n",
      "9                                   49 1988-10-11   \n",
      "\n",
      "                              job_title job_industry_category  \\\n",
      "0                   Executive Secretary                Health   \n",
      "1                Administrative Officer    Financial Services   \n",
      "2                    Recruiting Manager              Property   \n",
      "3                         Senior Editor                    IT   \n",
      "4                         Senior Editor                    IT   \n",
      "5                       Media Manager I                Retail   \n",
      "6                       Media Manager I    Financial Services   \n",
      "7                       Media Manager I    Financial Services   \n",
      "8  Business Systems Development Analyst           Argiculture   \n",
      "9               Senior Quality Engineer    Financial Services   \n",
      "\n",
      "      wealth_segment deceased_indicator owns_car  tenure  \n",
      "0      Mass Customer                  N      Yes    11.0  \n",
      "1      Mass Customer                  N      Yes    16.0  \n",
      "2      Mass Customer                  N      Yes    15.0  \n",
      "3      Mass Customer                  N       No     7.0  \n",
      "4  Affluent Customer                  N      Yes     8.0  \n",
      "5     High Net Worth                  N      Yes    13.0  \n",
      "6  Affluent Customer                  N      Yes    11.0  \n",
      "7      Mass Customer                  N       No     7.0  \n",
      "8  Affluent Customer                  N      Yes     8.0  \n",
      "9      Mass Customer                  N      Yes    20.0  \n"
     ]
    }
   ],
   "source": [
    "cleaned_CustomerDemographic = pd.DataFrame({\n",
    "        \"customer_id\": df[\"customer_id\"],\n",
    "        \"first_name\": df[\"first_name\"],\n",
    "        \"last_name\": df[\"last_name\"],\n",
    "        \"gender\": df[\"gender\"],\n",
    "        \"past_3_years_bike_related_purchases\": df[\"past_3_years_bike_related_purchases\"],\n",
    "        \"DOB\": df[\"DOB\"],\n",
    "        \"job_title\": df[\"job_title\"],\n",
    "        \"job_industry_category\": df[\"job_industry_category\"],\n",
    "        \"wealth_segment\": df[\"wealth_segment\"],\n",
    "        \"deceased_indicator\": df[\"deceased_indicator\"],\n",
    "        \"owns_car\": df[\"owns_car\"],\n",
    "        \"tenure\": df[\"tenure\"]\n",
    "    })\n",
    "cleaned_CustomerDemographic.to_csv('./cleaned_CustomerDemographic.csv', index=False)\n",
    "print(cleaned_CustomerDemographic.head(10))"
   ]
  },
  {
   "cell_type": "code",
   "execution_count": null,
   "id": "3deb1191-b38d-4058-94af-05eaf5382653",
   "metadata": {},
   "outputs": [],
   "source": []
  }
 ],
 "metadata": {
  "kernelspec": {
   "display_name": "Python 3 (ipykernel)",
   "language": "python",
   "name": "python3"
  },
  "language_info": {
   "codemirror_mode": {
    "name": "ipython",
    "version": 3
   },
   "file_extension": ".py",
   "mimetype": "text/x-python",
   "name": "python",
   "nbconvert_exporter": "python",
   "pygments_lexer": "ipython3",
   "version": "3.10.0"
  }
 },
 "nbformat": 4,
 "nbformat_minor": 5
}
