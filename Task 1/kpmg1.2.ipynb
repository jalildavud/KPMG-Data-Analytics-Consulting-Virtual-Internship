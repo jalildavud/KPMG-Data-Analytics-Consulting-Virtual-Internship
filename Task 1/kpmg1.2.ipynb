{
 "cells": [
  {
   "cell_type": "code",
   "execution_count": null,
   "id": "af6d533e-1ec9-4d94-abc6-9380c6fd6925",
   "metadata": {},
   "outputs": [],
   "source": []
  },
  {
   "cell_type": "code",
   "execution_count": 1,
   "id": "fd69f34b-7263-4f57-b0c1-e2178b325778",
   "metadata": {},
   "outputs": [],
   "source": [
    "import pandas as pd\n",
    "import numpy as np"
   ]
  },
  {
   "cell_type": "code",
   "execution_count": 2,
   "id": "ee17c963-ac74-4964-831a-e6ed8450bdb3",
   "metadata": {},
   "outputs": [
    {
     "name": "stderr",
     "output_type": "stream",
     "text": [
      "C:\\Users\\Pavilion\\AppData\\Local\\Temp/ipykernel_8040/2139439545.py:1: FutureWarning: Inferring datetime64[ns] from data containing strings is deprecated and will be removed in a future version. To retain the old behavior explicitly pass Series(data, dtype={value.dtype})\n",
      "  df=pd.read_excel('KPMG.xlsx', sheet_name='NewCustomerList')\n"
     ]
    },
    {
     "data": {
      "text/html": [
       "<div>\n",
       "<style scoped>\n",
       "    .dataframe tbody tr th:only-of-type {\n",
       "        vertical-align: middle;\n",
       "    }\n",
       "\n",
       "    .dataframe tbody tr th {\n",
       "        vertical-align: top;\n",
       "    }\n",
       "\n",
       "    .dataframe thead th {\n",
       "        text-align: right;\n",
       "    }\n",
       "</style>\n",
       "<table border=\"1\" class=\"dataframe\">\n",
       "  <thead>\n",
       "    <tr style=\"text-align: right;\">\n",
       "      <th></th>\n",
       "      <th>first_name</th>\n",
       "      <th>last_name</th>\n",
       "      <th>gender</th>\n",
       "      <th>past_3_years_bike_related_purchases</th>\n",
       "      <th>DOB</th>\n",
       "      <th>job_title</th>\n",
       "      <th>job_industry_category</th>\n",
       "      <th>wealth_segment</th>\n",
       "      <th>deceased_indicator</th>\n",
       "      <th>owns_car</th>\n",
       "      <th>tenure</th>\n",
       "      <th>address</th>\n",
       "      <th>postcode</th>\n",
       "      <th>state</th>\n",
       "      <th>country</th>\n",
       "      <th>property_valuation</th>\n",
       "      <th>Rank</th>\n",
       "      <th>Value</th>\n",
       "    </tr>\n",
       "  </thead>\n",
       "  <tbody>\n",
       "    <tr>\n",
       "      <th>0</th>\n",
       "      <td>Chickie</td>\n",
       "      <td>Brister</td>\n",
       "      <td>Male</td>\n",
       "      <td>86</td>\n",
       "      <td>1957-07-12</td>\n",
       "      <td>General Manager</td>\n",
       "      <td>Manufacturing</td>\n",
       "      <td>Mass Customer</td>\n",
       "      <td>N</td>\n",
       "      <td>Yes</td>\n",
       "      <td>14</td>\n",
       "      <td>45 Shopko Center</td>\n",
       "      <td>4500</td>\n",
       "      <td>QLD</td>\n",
       "      <td>Australia</td>\n",
       "      <td>6</td>\n",
       "      <td>1</td>\n",
       "      <td>1.718750</td>\n",
       "    </tr>\n",
       "    <tr>\n",
       "      <th>1</th>\n",
       "      <td>Morly</td>\n",
       "      <td>Genery</td>\n",
       "      <td>Male</td>\n",
       "      <td>69</td>\n",
       "      <td>1970-03-22</td>\n",
       "      <td>Structural Engineer</td>\n",
       "      <td>Property</td>\n",
       "      <td>Mass Customer</td>\n",
       "      <td>N</td>\n",
       "      <td>No</td>\n",
       "      <td>16</td>\n",
       "      <td>14 Mccormick Park</td>\n",
       "      <td>2113</td>\n",
       "      <td>NSW</td>\n",
       "      <td>Australia</td>\n",
       "      <td>11</td>\n",
       "      <td>1</td>\n",
       "      <td>1.718750</td>\n",
       "    </tr>\n",
       "    <tr>\n",
       "      <th>2</th>\n",
       "      <td>Ardelis</td>\n",
       "      <td>Forrester</td>\n",
       "      <td>Female</td>\n",
       "      <td>10</td>\n",
       "      <td>1974-08-28</td>\n",
       "      <td>Senior Cost Accountant</td>\n",
       "      <td>Financial Services</td>\n",
       "      <td>Affluent Customer</td>\n",
       "      <td>N</td>\n",
       "      <td>No</td>\n",
       "      <td>10</td>\n",
       "      <td>5 Colorado Crossing</td>\n",
       "      <td>3505</td>\n",
       "      <td>VIC</td>\n",
       "      <td>Australia</td>\n",
       "      <td>5</td>\n",
       "      <td>1</td>\n",
       "      <td>1.718750</td>\n",
       "    </tr>\n",
       "    <tr>\n",
       "      <th>3</th>\n",
       "      <td>Lucine</td>\n",
       "      <td>Stutt</td>\n",
       "      <td>Female</td>\n",
       "      <td>64</td>\n",
       "      <td>1979-01-28</td>\n",
       "      <td>Account Representative III</td>\n",
       "      <td>Manufacturing</td>\n",
       "      <td>Affluent Customer</td>\n",
       "      <td>N</td>\n",
       "      <td>Yes</td>\n",
       "      <td>5</td>\n",
       "      <td>207 Annamark Plaza</td>\n",
       "      <td>4814</td>\n",
       "      <td>QLD</td>\n",
       "      <td>Australia</td>\n",
       "      <td>1</td>\n",
       "      <td>4</td>\n",
       "      <td>1.703125</td>\n",
       "    </tr>\n",
       "    <tr>\n",
       "      <th>4</th>\n",
       "      <td>Melinda</td>\n",
       "      <td>Hadlee</td>\n",
       "      <td>Female</td>\n",
       "      <td>34</td>\n",
       "      <td>1965-09-21</td>\n",
       "      <td>Financial Analyst</td>\n",
       "      <td>Financial Services</td>\n",
       "      <td>Affluent Customer</td>\n",
       "      <td>N</td>\n",
       "      <td>No</td>\n",
       "      <td>19</td>\n",
       "      <td>115 Montana Place</td>\n",
       "      <td>2093</td>\n",
       "      <td>NSW</td>\n",
       "      <td>Australia</td>\n",
       "      <td>9</td>\n",
       "      <td>4</td>\n",
       "      <td>1.703125</td>\n",
       "    </tr>\n",
       "  </tbody>\n",
       "</table>\n",
       "</div>"
      ],
      "text/plain": [
       "  first_name  last_name  gender  past_3_years_bike_related_purchases  \\\n",
       "0    Chickie    Brister    Male                                   86   \n",
       "1      Morly     Genery    Male                                   69   \n",
       "2    Ardelis  Forrester  Female                                   10   \n",
       "3     Lucine      Stutt  Female                                   64   \n",
       "4    Melinda     Hadlee  Female                                   34   \n",
       "\n",
       "         DOB                   job_title job_industry_category  \\\n",
       "0 1957-07-12             General Manager         Manufacturing   \n",
       "1 1970-03-22         Structural Engineer              Property   \n",
       "2 1974-08-28      Senior Cost Accountant    Financial Services   \n",
       "3 1979-01-28  Account Representative III         Manufacturing   \n",
       "4 1965-09-21           Financial Analyst    Financial Services   \n",
       "\n",
       "      wealth_segment deceased_indicator owns_car  tenure              address  \\\n",
       "0      Mass Customer                  N      Yes      14     45 Shopko Center   \n",
       "1      Mass Customer                  N       No      16    14 Mccormick Park   \n",
       "2  Affluent Customer                  N       No      10  5 Colorado Crossing   \n",
       "3  Affluent Customer                  N      Yes       5   207 Annamark Plaza   \n",
       "4  Affluent Customer                  N       No      19    115 Montana Place   \n",
       "\n",
       "   postcode state    country  property_valuation  Rank     Value  \n",
       "0      4500   QLD  Australia                   6     1  1.718750  \n",
       "1      2113   NSW  Australia                  11     1  1.718750  \n",
       "2      3505   VIC  Australia                   5     1  1.718750  \n",
       "3      4814   QLD  Australia                   1     4  1.703125  \n",
       "4      2093   NSW  Australia                   9     4  1.703125  "
      ]
     },
     "execution_count": 2,
     "metadata": {},
     "output_type": "execute_result"
    }
   ],
   "source": [
    "df=pd.read_excel('KPMG.xlsx', sheet_name='NewCustomerList')\n",
    "df.head()"
   ]
  },
  {
   "cell_type": "code",
   "execution_count": 3,
   "id": "2bdfe023-4368-4d34-9d15-ce277dee0814",
   "metadata": {},
   "outputs": [
    {
     "data": {
      "text/plain": [
       "first_name                               0\n",
       "last_name                               29\n",
       "gender                                   0\n",
       "past_3_years_bike_related_purchases      0\n",
       "DOB                                     17\n",
       "job_title                              106\n",
       "job_industry_category                  165\n",
       "wealth_segment                           0\n",
       "deceased_indicator                       0\n",
       "owns_car                                 0\n",
       "tenure                                   0\n",
       "address                                  0\n",
       "postcode                                 0\n",
       "state                                    0\n",
       "country                                  0\n",
       "property_valuation                       0\n",
       "Rank                                     0\n",
       "Value                                    0\n",
       "dtype: int64"
      ]
     },
     "execution_count": 3,
     "metadata": {},
     "output_type": "execute_result"
    }
   ],
   "source": [
    "df.isnull().sum()"
   ]
  },
  {
   "cell_type": "code",
   "execution_count": 4,
   "id": "7b6e8015-9d08-4be4-9e53-a1c081048816",
   "metadata": {
    "colab": {},
    "colab_type": "code",
    "id": "fllM1M53pGVv"
   },
   "outputs": [],
   "source": [
    "df['last_name']=df['last_name'].fillna(method='ffill')"
   ]
  },
  {
   "cell_type": "code",
   "execution_count": 5,
   "id": "832d12a4-2c0a-4acc-8fd3-a71385ccaead",
   "metadata": {
    "colab": {},
    "colab_type": "code",
    "id": "NVbT9HjdpGgX"
   },
   "outputs": [],
   "source": [
    "df['DOB']=df['DOB'].fillna(method='ffill')"
   ]
  },
  {
   "cell_type": "code",
   "execution_count": 6,
   "id": "4ac209fb-147a-4c67-b4cf-484022d1d508",
   "metadata": {
    "colab": {
     "base_uri": "https://localhost:8080/",
     "height": 1000
    },
    "colab_type": "code",
    "id": "WMdGiGVUpGl6",
    "outputId": "04d71e16-6734-48a5-b21c-ad7f5c3e6cbc"
   },
   "outputs": [
    {
     "data": {
      "text/plain": [
       "Associate Professor         15\n",
       "Environmental Tech          14\n",
       "Software Consultant         14\n",
       "Chief Design Engineer       13\n",
       "Assistant Manager           12\n",
       "                            ..\n",
       "Accountant II                1\n",
       "Programmer IV                1\n",
       "Administrative Officer       1\n",
       "Accounting Assistant III     1\n",
       "Web Developer I              1\n",
       "Name: job_title, Length: 184, dtype: int64"
      ]
     },
     "execution_count": 6,
     "metadata": {},
     "output_type": "execute_result"
    }
   ],
   "source": [
    "df['job_title'].value_counts()"
   ]
  },
  {
   "cell_type": "code",
   "execution_count": 7,
   "id": "d20f70f8-a1ac-4d5a-8410-7e8fd3beb1a2",
   "metadata": {
    "colab": {},
    "colab_type": "code",
    "id": "C6dlUWOSpGrd"
   },
   "outputs": [],
   "source": [
    "df['job_title']=df['job_title'].fillna(method='bfill')"
   ]
  },
  {
   "cell_type": "code",
   "execution_count": 8,
   "id": "2489050f-8ef2-454a-a783-9f284e387c1b",
   "metadata": {
    "colab": {
     "base_uri": "https://localhost:8080/",
     "height": 195
    },
    "colab_type": "code",
    "id": "Ym6KoFqapGw5",
    "outputId": "fb6b9dc0-fbe1-4fb6-e873-28a00ac28412"
   },
   "outputs": [
    {
     "data": {
      "text/plain": [
       "Financial Services    203\n",
       "Manufacturing         199\n",
       "Health                152\n",
       "Retail                 78\n",
       "Property               64\n",
       "IT                     51\n",
       "Entertainment          37\n",
       "Argiculture            26\n",
       "Telecommunications     25\n",
       "Name: job_industry_category, dtype: int64"
      ]
     },
     "execution_count": 8,
     "metadata": {},
     "output_type": "execute_result"
    }
   ],
   "source": [
    "df['job_industry_category'].value_counts()"
   ]
  },
  {
   "cell_type": "code",
   "execution_count": 9,
   "id": "3a1164ed-11ea-4e06-be96-2819ea139148",
   "metadata": {
    "colab": {},
    "colab_type": "code",
    "id": "98GLWxIjpGvt"
   },
   "outputs": [],
   "source": [
    "df['job_industry_category']=df['job_industry_category'].fillna(method='bfill')"
   ]
  },
  {
   "cell_type": "code",
   "execution_count": 10,
   "id": "a28d3e4e-f4cf-4174-9274-6f95a8bbfd3a",
   "metadata": {},
   "outputs": [
    {
     "data": {
      "text/plain": [
       "0      False\n",
       "1      False\n",
       "2      False\n",
       "3      False\n",
       "4      False\n",
       "       ...  \n",
       "995    False\n",
       "996    False\n",
       "997    False\n",
       "998    False\n",
       "999    False\n",
       "Length: 1000, dtype: bool"
      ]
     },
     "execution_count": 10,
     "metadata": {},
     "output_type": "execute_result"
    }
   ],
   "source": [
    "df.duplicated()"
   ]
  },
  {
   "cell_type": "code",
   "execution_count": 11,
   "id": "c99c628a-ff2f-4380-9042-1456a714ca96",
   "metadata": {
    "colab": {
     "base_uri": "https://localhost:8080/",
     "height": 248
    },
    "colab_type": "code",
    "id": "9mzWxFJlpGPa",
    "outputId": "ffb231ba-e8fa-40fd-94dd-e21e44ffc5f5"
   },
   "outputs": [
    {
     "name": "stdout",
     "output_type": "stream",
     "text": [
      "  first_name  last_name  gender  past_3_years_bike_related_purchases  \\\n",
      "0    Chickie    Brister    Male                                   86   \n",
      "1      Morly     Genery    Male                                   69   \n",
      "2    Ardelis  Forrester  Female                                   10   \n",
      "3     Lucine      Stutt  Female                                   64   \n",
      "4    Melinda     Hadlee  Female                                   34   \n",
      "5      Druci    Brandli  Female                                   39   \n",
      "6   Rutledge      Hallt    Male                                   23   \n",
      "7     Nancie       Vian  Female                                   74   \n",
      "8       Duff  Karlowicz    Male                                   50   \n",
      "9    Barthel     Docket    Male                                   72   \n",
      "\n",
      "         DOB                     job_title job_industry_category  \\\n",
      "0 1957-07-12               General Manager         Manufacturing   \n",
      "1 1970-03-22           Structural Engineer              Property   \n",
      "2 1974-08-28        Senior Cost Accountant    Financial Services   \n",
      "3 1979-01-28    Account Representative III         Manufacturing   \n",
      "4 1965-09-21             Financial Analyst    Financial Services   \n",
      "5 1951-04-29       Assistant Media Planner         Entertainment   \n",
      "6 1976-10-06          Compensation Analyst    Financial Services   \n",
      "7 1972-12-27  Human Resources Assistant II                Retail   \n",
      "8 1972-04-28            Speech Pathologist         Manufacturing   \n",
      "9 1985-08-02       Accounting Assistant IV                    IT   \n",
      "\n",
      "      wealth_segment deceased_indicator owns_car  tenure  \\\n",
      "0      Mass Customer                  N      Yes      14   \n",
      "1      Mass Customer                  N       No      16   \n",
      "2  Affluent Customer                  N       No      10   \n",
      "3  Affluent Customer                  N      Yes       5   \n",
      "4  Affluent Customer                  N       No      19   \n",
      "5     High Net Worth                  N      Yes      22   \n",
      "6      Mass Customer                  N       No       8   \n",
      "7      Mass Customer                  N      Yes      10   \n",
      "8      Mass Customer                  N      Yes       5   \n",
      "9      Mass Customer                  N      Yes      17   \n",
      "\n",
      "                 address  postcode state    country  property_valuation  Rank  \\\n",
      "0       45 Shopko Center      4500   QLD  Australia                   6     1   \n",
      "1      14 Mccormick Park      2113   NSW  Australia                  11     1   \n",
      "2    5 Colorado Crossing      3505   VIC  Australia                   5     1   \n",
      "3     207 Annamark Plaza      4814   QLD  Australia                   1     4   \n",
      "4      115 Montana Place      2093   NSW  Australia                   9     4   \n",
      "5  89105 Pearson Terrace      4075   QLD  Australia                   7     6   \n",
      "6      7 Nevada Crossing      2620   NSW  Australia                   7     6   \n",
      "7       85 Carioca Point      4814   QLD  Australia                   5     8   \n",
      "8         717 West Drive      2200   NSW  Australia                  10     8   \n",
      "9   80 Scofield Junction      4151   QLD  Australia                   5    10   \n",
      "\n",
      "      Value  \n",
      "0  1.718750  \n",
      "1  1.718750  \n",
      "2  1.718750  \n",
      "3  1.703125  \n",
      "4  1.703125  \n",
      "5  1.671875  \n",
      "6  1.671875  \n",
      "7  1.656250  \n",
      "8  1.656250  \n",
      "9  1.640625  \n"
     ]
    }
   ],
   "source": [
    "cleaned_NewCustomerList = pd.DataFrame({\n",
    "        \"first_name\": df[\"first_name\"],\n",
    "        \"last_name\": df[\"last_name\"],\n",
    "        \"gender\": df[\"gender\"],\n",
    "        \"past_3_years_bike_related_purchases\": df[\"past_3_years_bike_related_purchases\"],\n",
    "        \"DOB\": df[\"DOB\"],\n",
    "        \"job_title\": df[\"job_title\"],\n",
    "        \"job_industry_category\": df[\"job_industry_category\"],\n",
    "        \"wealth_segment\": df[\"wealth_segment\"],\n",
    "        \"deceased_indicator\": df[\"deceased_indicator\"],\n",
    "        \"owns_car\": df[\"owns_car\"],\n",
    "        \"tenure\": df[\"tenure\"],\n",
    "        \"address\": df[\"address\"],\n",
    "        \"postcode\": df[\"postcode\"],\n",
    "        \"state\": df[\"state\"],\n",
    "        \"country\": df[\"country\"],\n",
    "        \"property_valuation\": df[\"property_valuation\"],\n",
    "        \"Rank\": df[\"Rank\"],\n",
    "        \"Value\": df[\"Value\"]\n",
    "    })\n",
    "cleaned_NewCustomerList.to_csv('./cleaned_NewCustomerList.csv', index=False)\n",
    "print(cleaned_NewCustomerList.head(10))"
   ]
  },
  {
   "cell_type": "code",
   "execution_count": null,
   "id": "aed19bd2-08d6-45dc-a6f1-ff0089e60941",
   "metadata": {},
   "outputs": [],
   "source": []
  }
 ],
 "metadata": {
  "kernelspec": {
   "display_name": "Python 3 (ipykernel)",
   "language": "python",
   "name": "python3"
  },
  "language_info": {
   "codemirror_mode": {
    "name": "ipython",
    "version": 3
   },
   "file_extension": ".py",
   "mimetype": "text/x-python",
   "name": "python",
   "nbconvert_exporter": "python",
   "pygments_lexer": "ipython3",
   "version": "3.10.0"
  }
 },
 "nbformat": 4,
 "nbformat_minor": 5
}
